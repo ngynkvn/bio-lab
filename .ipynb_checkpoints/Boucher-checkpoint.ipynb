{
 "cells": [
  {
   "cell_type": "code",
   "execution_count": 13,
   "metadata": {},
   "outputs": [
    {
     "name": "stdout",
     "output_type": "stream",
     "text": [
      "12001 Rmaps, 349822 Fragments.\n",
      "CPU times: user 220 ms, sys: 4 ms, total: 224 ms\n",
      "Wall time: 224 ms\n"
     ]
    }
   ],
   "source": [
    "%%time\n",
    "# f = open('test_ecoli', 'r')\n",
    "f = open('omsim_ecoli_05_015', 'r')\n",
    "# f = ['Rmap_193 21.767 12.118 28.965 29.134 3.428 26.367 7.788 10.751 15.66 11.687 11.022 8.103 3.946 35.932 2.591 18.609 17.574 2.205 13.081 9.96 3.421 11.298 1.395 3.519 2.483 22.925 2.687 16.295 2.797 3.712 8.736 2.663 7.352 25.61 28.897 5.243',\n",
    "# 'Rmap_101 2.678 8.033 4.023 35.631 2.575 18.453 17.487 2.212 12.969 9.922 3.456 11.132 1.354 3.84 2.547 16.551 3.189 2.562 1.922 1.579 15.074 3.25 3.41 8.794 10.152 4.285 20.87 22.134 6.591 12.18 1.542']\n",
    "data = {}\n",
    "n = 0\n",
    "for line in f:\n",
    "    line = line.split(' ')\n",
    "    data[line[0]] = list(map(float, line[1:]))\n",
    "    if n == 12000:\n",
    "        pass\n",
    "#         break\n",
    "    n += 1\n",
    "print(len(data.keys()), \"Rmaps,\",sum(map(len, data.values())), \"Fragments.\")\n",
    "# f.close()"
   ]
  },
  {
   "cell_type": "code",
   "execution_count": 14,
   "metadata": {},
   "outputs": [
    {
     "name": "stdout",
     "output_type": "stream",
     "text": [
      "301818 Kmers\n",
      "CPU times: user 276 ms, sys: 16 ms, total: 292 ms\n",
      "Wall time: 285 ms\n"
     ]
    }
   ],
   "source": [
    "%%time\n",
    "def kmers(li, k=5):\n",
    "    return [tuple(li[i:i+k]) for i in range(len(li) - k + 1)]\n",
    "kmap = {}\n",
    "rmap = {}\n",
    "kmer_list = []\n",
    "for k, v in data.items():\n",
    "    kmrs = kmers(v)\n",
    "    rmap[k] = kmrs\n",
    "    kmer_list.extend(kmrs)\n",
    "    kmap.update(zip(kmrs, [k]*len(kmrs)))\n",
    "print(len(kmer_list), \"Kmers\")"
   ]
  },
  {
   "cell_type": "code",
   "execution_count": 17,
   "metadata": {},
   "outputs": [
    {
     "name": "stdout",
     "output_type": "stream",
     "text": [
      "[(('Rmap_8500', 'Rmap_2304'), 24),\n",
      " (('Rmap_9959', 'Rmap_9641'), 23),\n",
      " (('Rmap_2724', 'Rmap_9959'), 22),\n",
      " (('Rmap_7438', 'Rmap_8915'), 22),\n",
      " (('Rmap_11330', 'Rmap_2304'), 21),\n",
      " (('Rmap_115', 'Rmap_4341'), 20),\n",
      " (('Rmap_9959', 'Rmap_10146'), 20),\n",
      " (('Rmap_7507', 'Rmap_9641'), 20),\n",
      " (('Rmap_8915', 'Rmap_2445'), 20),\n",
      " (('Rmap_8915', 'Rmap_4359'), 20),\n",
      " (('Rmap_9336', 'Rmap_7977'), 20)]\n",
      "CPU times: user 10.7 s, sys: 120 ms, total: 10.8 s\n",
      "Wall time: 10.8 s\n"
     ]
    }
   ],
   "source": [
    "%%time\n",
    "from sklearn.cluster import DBSCAN\n",
    "from sklearn.neighbors import KDTree\n",
    "import numpy as np\n",
    "import sklearn\n",
    "import itertools\n",
    "from operator import itemgetter\n",
    "from collections import defaultdict\n",
    "from pprint import pprint\n",
    "alpha = 20 #\n",
    "clusters = defaultdict(set)\n",
    "clusters_with_kmer = defaultdict(set)\n",
    "\n",
    "clustering = DBSCAN(eps=.5, min_samples = alpha).fit_predict(kmer_list)\n",
    "for kmer, label in zip(kmer_list, clustering):\n",
    "    if label != -1:\n",
    "        clusters[label].add((kmap[kmer], kmer))\n",
    "rmap_relations = defaultdict(int)\n",
    "\n",
    "for s in clusters.values():\n",
    "    for i_j in itertools.combinations(map(itemgetter(0), s), 2):\n",
    "        rmap_relations[i_j] += 1\n",
    "meep = sorted(filter(lambda x: x[1] >= alpha, rmap_relations.items()), key=itemgetter(1), reverse=True)\n",
    "pprint(meep[:100])\n"
   ]
  },
  {
   "cell_type": "code",
   "execution_count": null,
   "metadata": {},
   "outputs": [],
   "source": [
    "'''\n",
    "Random code here.\n",
    "'''\n",
    "# kd = KDTree(np.array(kmer_list))\n",
    "# results = kd.query_radius(kmer_list, .5)\n",
    "# clusts = set(frozenset(map(lambda x: kmer_list[x], r)) for r in results if len(r) > 1)\n",
    "# clusts = set(frozenset(map(lambda x: kmap[kmer_list[x]], r)) for r in results if len(r) > 1)\n",
    "# clusts = set(frozenset(r) for r in results if len(r) > 1)\n",
    "# print(len(clusts))\n",
    "# rmap_relations = defaultdict(int)\n",
    "# for s in clusts:\n",
    "#     for i_j in itertools.combinations(s, 2):\n",
    "#         rmap_relations[i_j] += 1\n",
    "# pprint(rmap_relations)\n",
    "# pprint()\n",
    "# print(clusters)\n",
    "# clust2 = set(frozenset(k) for k in clusters.values())\n",
    "# f = open('yeet.txt', 'w')\n",
    "# f2 = open('yeet2.txt', 'w')\n",
    "# f3 = open('y3.txt', 'w')\n",
    "# f.write(pformat(clusts))\n",
    "# f2.write(pformat(clust2))\n",
    "# f3.write(pformat(clusts ^ clust2))\n",
    "# f.close()\n",
    "# f2.close()\n",
    "# f3.close()\n",
    "# print(sklearn.metrics.silhouette_score(kmer_list, clustering, metric='euclidean'))\n"
   ]
  },
  {
   "cell_type": "code",
   "execution_count": null,
   "metadata": {},
   "outputs": [],
   "source": []
  }
 ],
 "metadata": {
  "kernelspec": {
   "display_name": "Python 3",
   "language": "python",
   "name": "python3"
  },
  "language_info": {
   "codemirror_mode": {
    "name": "ipython",
    "version": 3
   },
   "file_extension": ".py",
   "mimetype": "text/x-python",
   "name": "python",
   "nbconvert_exporter": "python",
   "pygments_lexer": "ipython3",
   "version": "3.7.3"
  }
 },
 "nbformat": 4,
 "nbformat_minor": 4
}
