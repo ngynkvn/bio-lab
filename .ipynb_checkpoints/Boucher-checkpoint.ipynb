{
 "cells": [
  {
   "cell_type": "code",
   "execution_count": 1,
   "metadata": {},
   "outputs": [
    {
     "name": "stdout",
     "output_type": "stream",
     "text": [
      "8001 Rmaps, 232626 Fragments.\n",
      "CPU times: user 64 ms, sys: 12 ms, total: 76 ms\n",
      "Wall time: 83.7 ms\n"
     ]
    }
   ],
   "source": [
    "%%time\n",
    "f = open('omsim_ecoli_05_015', 'r')\n",
    "\n",
    "# Rmap -> Values\n",
    "rmap_data = {}\n",
    "n = 0\n",
    "for line in f:\n",
    "    line = line.split(' ')\n",
    "    rmap_data[line[0]] = list(map(float, line[1:]))\n",
    "    if n == 8000:break\n",
    "    n += 1\n",
    "print(len(rmap_data.keys()), \"Rmaps,\",sum(map(len, rmap_data.values())), \"Fragments.\")\n",
    "f.close()"
   ]
  },
  {
   "cell_type": "code",
   "execution_count": 2,
   "metadata": {},
   "outputs": [
    {
     "name": "stdout",
     "output_type": "stream",
     "text": [
      "200622 Kmers\n",
      "CPU times: user 276 ms, sys: 4 ms, total: 280 ms\n",
      "Wall time: 281 ms\n"
     ]
    }
   ],
   "source": [
    "%%time\n",
    "import itertools\n",
    "\n",
    "def create_kmers(li, k=5):\n",
    "    ''' Splits a list into k-mers.'''\n",
    "    return [tuple(li[i:i+k]) for i in range(len(li) - k + 1)]\n",
    "'''\n",
    "Creating two dictionaries that serve as lookups for kmer -> rmap and rmap -> kmer.\n",
    "kmer_list is passed to DBSCAN to be clustered based on distance metric\n",
    "Possible problem, we assume no two kmer's being exactly the same for the kmer -> rmap dictionary.\n",
    "'''\n",
    "rmap_to_k = {} # Rmap corresponding to Kmer\n",
    "kmer_to_r = {} # Kmer corresponding to Rmap\n",
    "kmer_list = [] # Raw list of kmers.\n",
    "\n",
    "#Iterate through data to initialize the three objects above.\n",
    "for rmap, values in rmap_data.items():\n",
    "    kmrs = create_kmers(values)\n",
    "    if rmap in rmap_to_k:\n",
    "        print(\"Warning: a duplicate rmap name was found and will overwrite the kmer values\")\n",
    "    assert len(set(kmrs)) == len(kmrs),  \"Error: A duplicate kmer was encountered.\"\n",
    "    rmap_to_k[rmap] = kmrs\n",
    "    kmer_to_r.update(zip(kmrs, itertools.repeat(rmap, len(kmrs))))\n",
    "    kmer_list.extend(kmrs)\n",
    "print(len(kmer_list), \"Kmers\")"
   ]
  },
  {
   "cell_type": "code",
   "execution_count": null,
   "metadata": {},
   "outputs": [],
   "source": []
  },
  {
   "cell_type": "code",
   "execution_count": 3,
   "metadata": {},
   "outputs": [
    {
     "name": "stdout",
     "output_type": "stream",
     "text": [
      "CPU times: user 4.38 s, sys: 280 ms, total: 4.66 s\n",
      "Wall time: 3.64 s\n"
     ]
    }
   ],
   "source": [
    "%%time\n",
    "from sklearn.cluster import DBSCAN\n",
    "from sklearn.neighbors import KDTree\n",
    "import numpy as np\n",
    "import sklearn\n",
    "import itertools\n",
    "from operator import itemgetter\n",
    "from collections import defaultdict\n",
    "from pprint import pprint\n",
    "\n",
    "''' -*- Params here -*- '''\n",
    "alpha = 10 # Parameter\n",
    "epsilon = .3\n",
    "''''''\n",
    "\n",
    "#Output of DBSCAN is a list of cluster labels\n",
    "cluster_labels = DBSCAN(eps=epsilon, min_samples = alpha, n_jobs = -1, metric='euclidean').fit_predict(kmer_list)\n",
    "\n",
    "clusters_rmap = defaultdict(set)\n",
    "clusters_kmer = defaultdict(set)\n",
    "\n",
    "#Group clusters by label\n",
    "for label, kmer in zip(cluster_labels, kmer_list):\n",
    "    if label != -1:\n",
    "        clusters_rmap[label].add(kmer_to_r[kmer])\n",
    "        clusters_kmer[label].add(kmer)\n"
   ]
  },
  {
   "cell_type": "code",
   "execution_count": 5,
   "metadata": {},
   "outputs": [
    {
     "name": "stdout",
     "output_type": "stream",
     "text": [
      "Rmaps with kmer and it's range\n",
      "[(('Rmap_2029', (11.574, 4.465, 13.174, 4.794, 3.264)), (2, 7)),\n",
      " (('Rmap_3861', (11.611, 4.62, 13.296, 4.827, 3.385)), (8, 13)),\n",
      " (('Rmap_3861', (4.62, 13.296, 4.827, 3.385, 2.81)), (9, 14)),\n",
      " (('Rmap_2029', (4.465, 13.174, 4.794, 3.264, 2.97)), (3, 8)),\n",
      " (('Rmap_2029', (13.174, 4.794, 3.264, 2.97, 4.454)), (4, 9)),\n",
      " (('Rmap_3861', (13.296, 4.827, 3.385, 2.81, 4.679)), (10, 15)),\n",
      " (('Rmap_3861', (4.827, 3.385, 2.81, 4.679, 3.379)), (11, 16)),\n",
      " (('Rmap_2029', (4.794, 3.264, 2.97, 4.454, 3.347)), (5, 10)),\n",
      " (('Rmap_2029', (3.264, 2.97, 4.454, 3.347, 7.346)), (6, 11)),\n",
      " (('Rmap_3861', (3.385, 2.81, 4.679, 3.379, 7.581)), (12, 17)),\n",
      " (('Rmap_2029', (2.97, 4.454, 3.347, 7.346, 2.092)), (7, 12)),\n",
      " (('Rmap_3861', (2.81, 4.679, 3.379, 7.581, 2.131)), (13, 18)),\n",
      " (('Rmap_3861', (4.679, 3.379, 7.581, 2.131, 4.523)), (14, 19)),\n",
      " (('Rmap_2029', (4.454, 3.347, 7.346, 2.092, 4.559)), (8, 13)),\n",
      " (('Rmap_2029', (3.347, 7.346, 2.092, 4.559, 24.342)), (9, 14)),\n",
      " (('Rmap_3861', (3.379, 7.581, 2.131, 4.523, 24.636)), (15, 20)),\n",
      " (('Rmap_2029', (7.346, 2.092, 4.559, 24.342, 5.08)), (10, 15)),\n",
      " (('Rmap_3861', (7.581, 2.131, 4.523, 24.636, 5.103)), (16, 21)),\n",
      " (('Rmap_3861', (2.131, 4.523, 24.636, 5.103, 2.57)), (17, 22)),\n",
      " (('Rmap_2029', (2.092, 4.559, 24.342, 5.08, 2.48)), (11, 16)),\n",
      " (('Rmap_2029', (4.74, 6.885, 4.934, 5.21, 5.946)), (20, 25)),\n",
      " (('Rmap_3861', (4.718, 7.118, 4.376, 5.874, 5.944)), (26, 31)),\n",
      " (('Rmap_3861', (7.118, 4.376, 5.874, 5.944, 2.324)), (27, 32)),\n",
      " (('Rmap_2029', (6.885, 4.934, 5.21, 5.946, 2.194)), (21, 26)),\n",
      " (('Rmap_3861', (4.376, 5.874, 5.944, 2.324, 6.225)), (28, 33)),\n",
      " (('Rmap_2029', (4.934, 5.21, 5.946, 2.194, 6.252)), (22, 27)),\n",
      " (('Rmap_3861', (5.874, 5.944, 2.324, 6.225, 10.065)), (29, 34)),\n",
      " (('Rmap_2029', (5.21, 5.946, 2.194, 6.252, 9.804)), (23, 28)),\n",
      " (('Rmap_2029', (5.946, 2.194, 6.252, 9.804, 10.407)), (24, 29)),\n",
      " (('Rmap_3861', (5.944, 2.324, 6.225, 10.065, 10.429)), (30, 35)),\n",
      " (('Rmap_2029', (2.194, 6.252, 9.804, 10.407, 2.293)), (25, 30)),\n",
      " (('Rmap_3861', (2.324, 6.225, 10.065, 10.429, 2.396)), (31, 36)),\n",
      " (('Rmap_2029', (6.252, 9.804, 10.407, 2.293, 22.303)), (26, 31)),\n",
      " (('Rmap_3861', (6.225, 10.065, 10.429, 2.396, 22.675)), (32, 37)),\n",
      " (('Rmap_2029', (9.804, 10.407, 2.293, 22.303, 17.631)), (27, 32)),\n",
      " (('Rmap_3861', (10.065, 10.429, 2.396, 22.675, 17.809)), (33, 38)),\n",
      " (('Rmap_3861', (24.636, 5.103, 2.57, 1.603, 2.061)), (19, 24)),\n",
      " (('Rmap_2029', (24.342, 5.08, 2.48, 1.447, 2.21)), (13, 18)),\n",
      " (('Rmap_3861', (6.694, 3.611, 4.132, 4.451, 3.828)), (44, 49)),\n",
      " (('Rmap_2029', (5.884, 3.853, 4.264, 4.542, 3.638)), (39, 44)),\n",
      " (('Rmap_2029', (19.958, 1.851, 9.001, 4.036, 2.973)), (34, 39)),\n",
      " (('Rmap_3861', (20.332, 1.913, 9.201, 4.039, 2.8)), (39, 44)),\n",
      " (('Rmap_2029', (5.08, 2.48, 1.447, 2.21, 8.906)), (14, 19)),\n",
      " (('Rmap_3861', (5.103, 2.57, 1.603, 2.061, 8.988)), (20, 25)),\n",
      " (('Rmap_3861', (8.988, 13.914, 4.718, 7.118, 4.376)), (24, 29)),\n",
      " (('Rmap_2029', (8.906, 13.647, 4.74, 6.885, 4.934)), (18, 23)),\n",
      " (('Rmap_3861', (4.451, 3.828, 4.638, 9.906, 16.326)), (47, 52)),\n",
      " (('Rmap_2029', (4.542, 3.638, 4.645, 9.779, 16.077)), (42, 47)),\n",
      " (('Rmap_2029', (4.559, 24.342, 5.08, 2.48, 1.447)), (12, 17)),\n",
      " (('Rmap_3861', (4.523, 24.636, 5.103, 2.57, 1.603)), (18, 23)),\n",
      " (('Rmap_2029', (2.48, 1.447, 2.21, 8.906, 13.647)), (15, 20)),\n",
      " (('Rmap_3861', (2.57, 1.603, 2.061, 8.988, 13.914)), (21, 26)),\n",
      " (('Rmap_3861', (1.603, 2.061, 8.988, 13.914, 4.718)), (22, 27)),\n",
      " (('Rmap_2029', (1.447, 2.21, 8.906, 13.647, 4.74)), (16, 21)),\n",
      " (('Rmap_3861', (2.061, 8.988, 13.914, 4.718, 7.118)), (23, 28)),\n",
      " (('Rmap_2029', (2.21, 8.906, 13.647, 4.74, 6.885)), (17, 22)),\n",
      " (('Rmap_2029', (3.853, 4.264, 4.542, 3.638, 4.645)), (40, 45)),\n",
      " (('Rmap_3861', (3.611, 4.132, 4.451, 3.828, 4.638)), (45, 50)),\n",
      " (('Rmap_3861', (4.132, 4.451, 3.828, 4.638, 9.906)), (46, 51)),\n",
      " (('Rmap_2029', (4.264, 4.542, 3.638, 4.645, 9.779)), (41, 46))]\n",
      "Printing matches found\n",
      "[(('Rmap_2029', 'Rmap_3861'), 30),\n",
      " (('Rmap_4345', 'Rmap_5458'), 27),\n",
      " (('Rmap_3861', 'Rmap_5509'), 27),\n",
      " (('Rmap_3666', 'Rmap_4973'), 27),\n",
      " (('Rmap_5458', 'Rmap_6973'), 26),\n",
      " (('Rmap_115', 'Rmap_4341'), 26),\n",
      " (('Rmap_4043', 'Rmap_5466'), 26),\n",
      " (('Rmap_1809', 'Rmap_2304'), 25),\n",
      " (('Rmap_2029', 'Rmap_5509'), 25),\n",
      " (('Rmap_4743', 'Rmap_783'), 25),\n",
      " (('Rmap_1590', 'Rmap_2101'), 24),\n",
      " (('Rmap_1590', 'Rmap_2953'), 24),\n",
      " (('Rmap_1134', 'Rmap_7468'), 24),\n",
      " (('Rmap_2029', 'Rmap_559'), 24),\n",
      " (('Rmap_3306', 'Rmap_7507'), 23),\n",
      " (('Rmap_1548', 'Rmap_4136'), 23),\n",
      " (('Rmap_1489', 'Rmap_1590'), 23),\n",
      " (('Rmap_1590', 'Rmap_4743'), 23),\n",
      " (('Rmap_1590', 'Rmap_5915'), 23),\n",
      " (('Rmap_6092', 'Rmap_7215'), 23)]\n"
     ]
    }
   ],
   "source": [
    "from collections import Counter\n",
    "def kmers_between(r1, r2):    \n",
    "    '''\n",
    "    Looks for clusters that contain both rmaps, then looks up the resultant kmers that lead to the cluster \n",
    "    Prints list of rmap -> kmer\n",
    "    '''\n",
    "    matching_clusters = [i for i, r in clusters_rmap.items() if r1 in r and r2 in r]\n",
    "    kmers_between = [kmer for clust in matching_clusters for kmer in clusters_kmer[clust]]\n",
    "    with_rmap = [(kmer_to_r[k], k) for k in kmers_between if kmer_to_r[k] == r1 or kmer_to_r[k] == r2]\n",
    "    return with_rmap\n",
    "\n",
    "def rangeOf(rdata):\n",
    "    ''' Given rmap_data key and the kmer, return the range of the kmer inside rmap_data[key]. '''\n",
    "    name, kmer = rdata    \n",
    "    values = rmap_data[name]\n",
    "    # Naive string search for now\n",
    "    i = 0\n",
    "    while i < len(values):\n",
    "        j = 0\n",
    "        while j < len(kmer) and values[i+j] == kmer[j]: #Match\n",
    "            j += 1\n",
    "        if j == len(kmer): #Found word\n",
    "            return (i, i+j)\n",
    "        else:\n",
    "            i += 1\n",
    "    return None\n",
    "\n",
    "'''\n",
    "Exploratory data analysis\n",
    "'''\n",
    "\n",
    "k = kmers_between('Rmap_2029', 'Rmap_3861')\n",
    "print(\"Rmaps with kmer and it's range\")\n",
    "pprint(list(zip(k, map(rangeOf, k))))\n",
    "\n",
    "#For each cluster, count the combination pairs in the rmap_relation dict\n",
    "rmap_relations = Counter()\n",
    "for cluster in clusters_rmap.values():\n",
    "    # Sorting the cluster list is necessary to ensure itertools's combinations are lexicographically consistent.\n",
    "    # Update the counter with the number of combinations that are within each ckuster.\n",
    "    rmap_relations.update(itertools.combinations(sorted(cluster), 2))\n",
    "print(\"Printing matches found\")\n",
    "pprint(rmap_relations.most_common(20))\n"
   ]
  },
  {
   "cell_type": "code",
   "execution_count": 5,
   "metadata": {},
   "outputs": [
    {
     "data": {
      "text/plain": [
       "'\\nRandom code here.\\n'"
      ]
     },
     "execution_count": 5,
     "metadata": {},
     "output_type": "execute_result"
    }
   ],
   "source": [
    "'''\n",
    "Random code here.\n",
    "'''\n",
    "# kd = KDTree(np.array(kmer_list))\n",
    "# results = kd.query_radius(kmer_list, .5)\n",
    "# clusts = set(frozenset(map(lambda x: kmer_list[x], r)) for r in results if len(r) > 1)\n",
    "# clusts = set(frozenset(map(lambda x: kmap[kmer_list[x]], r)) for r in results if len(r) > 1)\n",
    "# clusts = set(frozenset(r) for r in results if len(r) > 1)\n",
    "# print(len(clusts))\n",
    "# rmap_relations = defaultdict(int)\n",
    "# for s in clusts:\n",
    "#     for i_j in itertools.combinations(s, 2):\n",
    "#         rmap_relations[i_j] += 1\n",
    "# pprint(rmap_relations)\n",
    "# pprint()\n",
    "# print(clusters)\n",
    "# clust2 = set(frozenset(k) for k in clusters.values())\n",
    "# f = open('yeet.txt', 'w')\n",
    "# f2 = open('yeet2.txt', 'w')\n",
    "# f3 = open('y3.txt', 'w')\n",
    "# f.write(pformat(clusts))\n",
    "# f2.write(pformat(clust2))\n",
    "# f3.write(pformat(clusts ^ clust2))\n",
    "# f.close()\n",
    "# f2.close()\n",
    "# f3.close()\n",
    "# print(sklearn.metrics.silhouette_score(kmer_list, clustering, metric='euclidean'))\n"
   ]
  },
  {
   "cell_type": "code",
   "execution_count": null,
   "metadata": {},
   "outputs": [],
   "source": []
  }
 ],
 "metadata": {
  "kernelspec": {
   "display_name": "Python 3",
   "language": "python",
   "name": "python3"
  },
  "language_info": {
   "codemirror_mode": {
    "name": "ipython",
    "version": 3
   },
   "file_extension": ".py",
   "mimetype": "text/x-python",
   "name": "python",
   "nbconvert_exporter": "python",
   "pygments_lexer": "ipython3",
   "version": "3.7.3"
  }
 },
 "nbformat": 4,
 "nbformat_minor": 4
}
