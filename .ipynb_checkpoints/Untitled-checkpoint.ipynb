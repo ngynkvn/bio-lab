{
 "cells": [
  {
   "cell_type": "code",
   "execution_count": 45,
   "metadata": {},
   "outputs": [
    {
     "ename": "ErrorException",
     "evalue": "invalid redefinition of constant Kmer",
     "output_type": "error",
     "traceback": [
      "invalid redefinition of constant Kmer",
      "",
      "Stacktrace:",
      " [1] top-level scope at In[45]:1"
     ]
    }
   ],
   "source": [
    "const Kmer = Tuple{Float64, Float64, Float64, Float64}"
   ]
  },
  {
   "cell_type": "code",
   "execution_count": 44,
   "metadata": {},
   "outputs": [
    {
     "ename": "UndefVarError",
     "evalue": "UndefVarError: workspace not defined",
     "output_type": "error",
     "traceback": [
      "UndefVarError: workspace not defined",
      "",
      "Stacktrace:",
      " [1] top-level scope at In[44]:1"
     ]
    }
   ],
   "source": [
    "data = Dict()\n",
    "lookup = Dict()\n",
    "kmer_list = Kmer[]\n",
    "open(\"test_ecoli\") do file\n",
    "    for line in eachline(file)\n",
    "        l = split(line)\n",
    "        fragments = @view l[2:end]\n",
    "        for k in range(0, stop=size(fragments, 1) - 4)\n",
    "            println(fragments[k:k+4])\n",
    "        end\n",
    "    end\n",
    "end"
   ]
  },
  {
   "cell_type": "code",
   "execution_count": 30,
   "metadata": {},
   "outputs": [
    {
     "name": "stdout",
     "output_type": "stream",
     "text": [
      "SubString{String}[\"7.906\", \"4.907\", \"12.312\", \"5.296\", \"2.044\", \"26.268\", \"3.879\", \"5.809\", \"15.183\", \"6.022\", \"7.208\", \"3.087\", \"16.682\", \"10.97\", \"9.834\", \"6.401\", \"3.316\", \"1.982\", \"3.248\"]\n"
     ]
    }
   ],
   "source": []
  }
 ],
 "metadata": {
  "kernelspec": {
   "display_name": "Julia 1.2.0",
   "language": "julia",
   "name": "julia-1.2"
  },
  "language_info": {
   "file_extension": ".jl",
   "mimetype": "application/julia",
   "name": "julia",
   "version": "1.2.0"
  }
 },
 "nbformat": 4,
 "nbformat_minor": 4
}
